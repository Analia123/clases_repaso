{
 "cells": [
  {
   "cell_type": "markdown",
   "metadata": {},
   "source": [
    "## Challenge 1 🧛‍♀️\n",
    "\n",
    "Crear un porgrama que contenga en cuatro variables los datos de un compeñere: nombre, edad, altura. E imprimir en una frase que diga  \"mi compañere es {nombre}, tiene {edad} años y su altura es {altura} cm\" \n",
    "\n",
    "Ejemplo: Mi compañere es Joselo, tiene 29 años y su altura es 175.8 cm"
   ]
  },
  {
   "cell_type": "markdown",
   "metadata": {},
   "source": [
    "# Challenge 2 🧛‍♀️\n",
    "\n",
    "Crear un programa que pregunte al usuario por su edad y verifique si tiene cedula. \n",
    "- En el caso en el que su edad sea menor a 18 imprimir \"solo jugo ades\"\n",
    "- En el caso de que tenga entre 18 y 21 imprimir \"podes tomar pero no comprar\"\n",
    "- En el caso de que tenga mas de 21 imprimir \"hace lo que quieras kp\"\n",
    "\n",
    "#### OBS: Siempre que sea mayor de edad verificar si tiene cedula antes de imprimir el mensaje"
   ]
  },
  {
   "cell_type": "code",
   "execution_count": null,
   "metadata": {},
   "outputs": [],
   "source": [
    "edad = int(input(\"ingresar edad\"))\n",
    "cedula = True\n",
    "\n",
    "menor_de_edad = edad < 18\n",
    "\n",
    "if menor_de_edad and cedula == True:"
   ]
  },
  {
   "cell_type": "markdown",
   "metadata": {},
   "source": [
    "# Challenge 3 🧛‍♀️\n",
    "\n",
    "Crear una funcion que pida como parametro el nombre, correo y contraseña de una persona. Retornar True si la contraseña tiene mas de 4 caracteres y el correo contiene un \"@\". De lo contrario retornar False"
   ]
  },
  {
   "cell_type": "code",
   "execution_count": 2,
   "metadata": {},
   "outputs": [
    {
     "data": {
      "text/plain": [
       "True"
      ]
     },
     "execution_count": 2,
     "metadata": {},
     "output_type": "execute_result"
    }
   ],
   "source": [
    "# explicar return y print\n",
    "def preguntar_datos(nombre, correo, contraseña):\n",
    "    cantidad_de_caracteres = len(contraseña)\n",
    "    existe_arroba = \"@\" in correo\n",
    "    if cantidad_de_caracteres > 4 and existe_arroba:\n",
    "        return True\n",
    "    else:\n",
    "        return False\n",
    "preguntar_datos(\"ana\",\"ana@penguin\",\"hola123\")"
   ]
  },
  {
   "cell_type": "code",
   "execution_count": null,
   "metadata": {},
   "outputs": [],
   "source": [
    "mi_ropa = \"sucia\"\n",
    "\n",
    "def lavarropa(ropa):\n",
    "    if ropa == \"sucia\":\n",
    "        ropa = \"limpia\"\n",
    "        print(\"la ropa ya esta\",ropa )\n",
    "    else:\n",
    "        print(\"ya esta limpio\")\n",
    "    \n",
    "\n",
    "lavarropa(mi_ropa)"
   ]
  },
  {
   "cell_type": "markdown",
   "metadata": {},
   "source": [
    "# Challenge 4 🧛‍♀️\n",
    "\n",
    "Crear una lista de animales y a continuación:\n",
    "- Pedir al usuario por un animal a eliminar de la lista\n",
    "- Pedir por otro animal y añadirlo en la ultima posicion\n",
    "- Imprimir la lista final"
   ]
  },
  {
   "cell_type": "code",
   "execution_count": 12,
   "metadata": {},
   "outputs": [
    {
     "name": "stdout",
     "output_type": "stream",
     "text": [
      "['perro', 'gato', 'gallina', 'leon', 'tortuga']\n"
     ]
    }
   ],
   "source": [
    "lista_animales = [\"perro\",\"gato\",\"gallina\",\"pezcado\",\"leon\"]\n",
    "\n",
    "animal_a_eliminar = input(\"ingrese un animal que desee eliminar\")\n",
    "animal_a_añadir = input(\"ingrese un animal que desea agregar\")\n",
    "\n",
    "lista_animales.remove(animal_a_eliminar)\n",
    "lista_animales.append(animal_a_añadir)\n",
    "print(lista_animales)"
   ]
  },
  {
   "cell_type": "markdown",
   "metadata": {},
   "source": [
    "# Challenge 5 🧛‍♀️\n",
    "\n",
    "Escribir un programa que pregunte al usuario por una palabra y una letra. Imprimir cuantas veces se repite la letra en la palabra."
   ]
  },
  {
   "cell_type": "markdown",
   "metadata": {},
   "source": [
    "# challenge 6 🧛‍♀️\n",
    "\n",
    "crear una lista de nombres y preguntar al usuario por la edad de cada uno. Imprimir \"hola soy {nombre} y mi edad {edad}\""
   ]
  },
  {
   "cell_type": "code",
   "execution_count": 8,
   "metadata": {},
   "outputs": [
    {
     "name": "stdout",
     "output_type": "stream",
     "text": [
      "soy jose y mi edad es 24\n",
      "soy sergio y mi edad es 30\n",
      "soy ana y mi edad es 19\n"
     ]
    }
   ],
   "source": [
    "lista_nombre = [\"jose\",\"sergio\",\"ana\"]\n",
    "\n",
    "for nombre in lista_nombre:\n",
    "    edad = int(input(\"ingrese la edad\"))\n",
    "    print(\"soy\", nombre, \"y mi edad es\", edad)"
   ]
  },
  {
   "cell_type": "markdown",
   "metadata": {},
   "source": [
    "# Challenge 7 🧛‍♀️\n",
    "\n",
    "Definir una variable que contenga un numero y preguntar al usuario por el numero hasta que acierte. Si falla imprimir si el numero a adivinar es mayor o menor que el numero ingresado"
   ]
  },
  {
   "cell_type": "code",
   "execution_count": 14,
   "metadata": {},
   "outputs": [
    {
     "name": "stdout",
     "output_type": "stream",
     "text": [
      "Incorrecto, ingrese un numero mas bajo\n",
      "Incorrecto, ingrese un numero mas alto\n",
      "Incorrecto, ingrese un numero mas bajo\n",
      "Incorrecto, ingrese un numero mas bajo\n",
      "Adivinaste!\n"
     ]
    }
   ],
   "source": [
    "numero = 6 \n",
    "numero_ingresado = int(input(\"Adivina el numero: \"))\n",
    "while numero_ingresado != numero:\n",
    "    if numero_ingresado < numero:\n",
    "        print(\"Incorrecto, ingrese un numero mas alto\")\n",
    "    elif numero_ingresado > numero:\n",
    "        print(\"Incorrecto, ingrese un numero mas bajo\")\n",
    "    numero_ingresado = int(input(\"Adivina el numero: \"))\n",
    "print(\"Adivinaste!\")"
   ]
  }
 ],
 "metadata": {
  "kernelspec": {
   "display_name": "Python 3.10.4 64-bit",
   "language": "python",
   "name": "python3"
  },
  "language_info": {
   "codemirror_mode": {
    "name": "ipython",
    "version": 3
   },
   "file_extension": ".py",
   "mimetype": "text/x-python",
   "name": "python",
   "nbconvert_exporter": "python",
   "pygments_lexer": "ipython3",
   "version": "3.10.4"
  },
  "orig_nbformat": 4,
  "vscode": {
   "interpreter": {
    "hash": "e593ac106456af50ce7af38f9671c411b49d6cd90f9b885e167f0f594e09038c"
   }
  }
 },
 "nbformat": 4,
 "nbformat_minor": 2
}
