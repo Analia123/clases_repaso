{
 "cells": [
  {
   "cell_type": "markdown",
   "metadata": {},
   "source": [
    "## Funciones\n",
    "\n",
    "Crear una funcion que pida como parametro el nombre, correo y contraseña de una persona. Retornar True si la contraseña tiene mas de 4 caracteres y el correo contiene un \"@\". De lo contrario retornar False"
   ]
  },
  {
   "cell_type": "code",
   "execution_count": null,
   "metadata": {},
   "outputs": [],
   "source": [
    "def preguntar_datos(nombre, correo, contraseña):\n",
    "    cantidad_de_caracteres = len(contraseña)\n",
    "    existe_arroba = \"@\" in correo\n",
    "    if cantidad_de_caracteres > 4 and existe_arroba:\n",
    "        return True\n",
    "    else:\n",
    "        return False\n",
    "preguntar_datos(\"ana\",\"ana@penguin\",\"hola123\")"
   ]
  },
  {
   "cell_type": "markdown",
   "metadata": {},
   "source": [
    "## Condicionales \n",
    "\n",
    "#### Crear un programa que pregunte al usuario por su edad y determine si puede comprar y consumir alcohol\n",
    "\n",
    "- En el caso en el que su edad sea menor a 18 imprimir \"solo jugo ades\"\n",
    "- En el caso de que tenga entre 18 y 21 imprimir \"podes tomar pero no comprar\"\n",
    "- En el caso de que tenga mas de 21 imprimir \"hace lo que quieras kp\"\n"
   ]
  },
  {
   "cell_type": "code",
   "execution_count": 3,
   "metadata": {},
   "outputs": [
    {
     "name": "stdout",
     "output_type": "stream",
     "text": [
      "hace lo que quieras kp\n"
     ]
    }
   ],
   "source": [
    "edad = int(input(\"Ingrese su edad\"))\n",
    "\n",
    "if edad < 18:\n",
    "    print(\"Solo jugo ades\")\n",
    "elif edad >= 18 and edad <= 21:\n",
    "    print (\"Podes tomar pero no comprar\")\n",
    "else:\n",
    "    print(\"hace lo que quieras kp\")"
   ]
  },
  {
   "cell_type": "markdown",
   "metadata": {},
   "source": [
    "## Bucle for"
   ]
  },
  {
   "cell_type": "markdown",
   "metadata": {},
   "source": [
    "#### Range()\n",
    "\n",
    "Escribir un programa que itere en un rango de 10 veces. Por cada iteracion multiplicar el numero por dos e imprimir el resultado en un mensaje que diga \"Dos por `{numero}` es igual a `{numero_multiplicado}`\""
   ]
  },
  {
   "cell_type": "code",
   "execution_count": 6,
   "metadata": {},
   "outputs": [
    {
     "name": "stdout",
     "output_type": "stream",
     "text": [
      "Dos por 1 es igual a 2\n",
      "Dos por 2 es igual a 4\n",
      "Dos por 3 es igual a 6\n",
      "Dos por 4 es igual a 8\n",
      "Dos por 5 es igual a 10\n",
      "Dos por 6 es igual a 12\n",
      "Dos por 7 es igual a 14\n",
      "Dos por 8 es igual a 16\n",
      "Dos por 9 es igual a 18\n",
      "Dos por 10 es igual a 20\n"
     ]
    }
   ],
   "source": [
    "for numero in range(10):\n",
    "    mult = numero * 2\n",
    "    print(\"Dos por\", numero, \"es igual a\", mult)"
   ]
  },
  {
   "cell_type": "markdown",
   "metadata": {},
   "source": [
    "#### Palabras \n",
    "\n",
    "Crear un programa que pida al usuario por una palabra e imprima todas las vocales existentes en la palabra."
   ]
  },
  {
   "cell_type": "code",
   "execution_count": 7,
   "metadata": {},
   "outputs": [
    {
     "name": "stdout",
     "output_type": "stream",
     "text": [
      "u\n",
      "o\n"
     ]
    }
   ],
   "source": [
    "palabra = input(\"ingrese una palabra\")\n",
    "\n",
    "for letra in palabra:\n",
    "    vocales = \"aeiou\"\n",
    "    if letra in vocales:\n",
    "        print (letra)"
   ]
  },
  {
   "cell_type": "markdown",
   "metadata": {},
   "source": [
    "#### Listas\n",
    "\n",
    "Crear un programa que reciba una lista de supermercado e imprima todos los elementos de la lista enumerados."
   ]
  },
  {
   "cell_type": "code",
   "execution_count": 9,
   "metadata": {},
   "outputs": [
    {
     "name": "stdout",
     "output_type": "stream",
     "text": [
      "1.papel\n",
      "2.porro\n",
      "3.fuego\n"
     ]
    }
   ],
   "source": [
    "lista_de_compras = ['papel', 'porro', 'fuego']\n",
    "\n",
    "for posicion_de_productos in range(0,len(lista_de_compras)):\n",
    "    contador = posicion_de_productos + 1\n",
    "    print(str(contador) + '.' + lista_de_compras[posicion_de_productos])"
   ]
  },
  {
   "cell_type": "markdown",
   "metadata": {},
   "source": [
    "## While\n",
    "\n",
    "Definir una variable que contenga un numero y preguntar al usuario por el numero hasta que acierte. Si falla imprimir si el numero a adivinar es mayor o menor que el numero ingresado"
   ]
  },
  {
   "cell_type": "code",
   "execution_count": 8,
   "metadata": {},
   "outputs": [
    {
     "name": "stdout",
     "output_type": "stream",
     "text": [
      "Incorrecto, ingrese un numero mas alto\n",
      "Incorrecto, ingrese un numero mas alto\n",
      "Incorrecto, ingrese un numero mas alto\n",
      "Incorrecto, ingrese un numero mas bajo\n",
      "Incorrecto, ingrese un numero mas alto\n",
      "Incorrecto, ingrese un numero mas alto\n",
      "Adivinaste!\n"
     ]
    }
   ],
   "source": [
    "numero = 6 \n",
    "numero_ingresado = int(input(\"Adivina el numero: \"))\n",
    "while numero_ingresado != numero:\n",
    "    if numero_ingresado < numero:\n",
    "        print(\"Incorrecto, ingrese un numero mas alto\")\n",
    "    elif numero_ingresado > numero:\n",
    "        print(\"Incorrecto, ingrese un numero mas bajo\")\n",
    "    numero_ingresado = int(input(\"Adivina el numero: \"))\n",
    "print(\"Adivinaste!\")"
   ]
  },
  {
   "cell_type": "markdown",
   "metadata": {},
   "source": [
    "## While True"
   ]
  }
 ],
 "metadata": {
  "kernelspec": {
   "display_name": "Python 3.10.4 64-bit",
   "language": "python",
   "name": "python3"
  },
  "language_info": {
   "codemirror_mode": {
    "name": "ipython",
    "version": 3
   },
   "file_extension": ".py",
   "mimetype": "text/x-python",
   "name": "python",
   "nbconvert_exporter": "python",
   "pygments_lexer": "ipython3",
   "version": "3.10.4"
  },
  "orig_nbformat": 4,
  "vscode": {
   "interpreter": {
    "hash": "e593ac106456af50ce7af38f9671c411b49d6cd90f9b885e167f0f594e09038c"
   }
  }
 },
 "nbformat": 4,
 "nbformat_minor": 2
}
